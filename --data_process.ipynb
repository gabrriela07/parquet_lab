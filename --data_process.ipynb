{
 "cells": [
  {
   "cell_type": "markdown",
   "metadata": {},
   "source": [
    "### 🔬PARQUET LAB"
   ]
  },
  {
   "cell_type": "code",
   "execution_count": 2,
   "metadata": {},
   "outputs": [],
   "source": [
    "import warnings\n",
    "import os\n",
    "from os import listdir,getenv\n",
    "import zipfile\n",
    "import glob\n",
    "import src.utils as utils\n",
    "from src.utils import handle_count_files,handle_size_files,handle_unzip_files,handle_new_dir_parquet,handle_csv_to_parquet,handle_clean_tmp\n",
    "\n",
    "from datetime import datetime\n",
    "import time\n",
    "\n",
    "\n",
    "# diretórios existentes\n",
    "path_root = getenv(\"PATH_ROOT\")\n",
    "bucket_parquet = getenv(\"BUCKET_PARQUET\")\n",
    "path_tmp = f\"{path_root}tmp/\"\n",
    "\n",
    "# variáveis\n",
    "target = 'geoleads'\n",
    "final_target = f'{path_root}{target}/'\n",
    "target_parquet = f\"{bucket_parquet}/{target}/\""
   ]
  },
  {
   "cell_type": "code",
   "execution_count": 6,
   "metadata": {},
   "outputs": [
    {
     "name": "stdout",
     "output_type": "stream",
     "text": [
      "🚩 START >> 15:33:30 <<\n",
      "STEP 1 ----------------•\n",
      "ORIGINAL PATH: C:/Dados/SRCS/csv_in/geoleads/ | TEMP PATH: C:/Dados/SRCS/csv_in/tmp/ \n",
      "FILES: 13\n",
      "TOTAL SIZE: 1243.60 MB\n",
      "___________________________________\n",
      "STEP 2 ----------------•\n",
      "PARQUET PATH: C:/Dados/SRCS/bucket/parquet/geoleads/\n",
      "PARQUET FILES: 13\n",
      "TOTAL SIZE: 91.02 MB\n",
      "___________________________________\n",
      "ℹ INFOS ----------------•\n",
      "SIZE SAVED: 1152.58 MB\n",
      "% REDUCTION: 92.68%\n",
      "___________________________________\n",
      "🚩 START >> 15:33:30 <<\n",
      "🏁 END >> 15:34:08 <<\n",
      "⏳: 0:00:38.479311\n"
     ]
    }
   ],
   "source": [
    "'''\n",
    "ETAPA 1\n",
    "→ Extrai os arquivos da pasta target e move para pasta temporária\n",
    "→ Calcula o volume e tamanho total de arquivos na pasta que será convertida (temp)\n",
    "'''\n",
    "inicio = datetime.now()\n",
    "print(f\"🚩 START >> {inicio.strftime('%H:%M:%S')} <<\")\n",
    "print(\"STEP 1 ----------------•\")\n",
    "print(f\"ORIGINAL PATH: {final_target} | TEMP PATH: {path_tmp} \")\n",
    "handle_unzip_files(final_target,path_tmp)\n",
    "qtd_1 = handle_count_files(path_tmp)\n",
    "size_1 = handle_size_files(path_tmp)\n",
    "print(f\"FILES: {qtd_1}\")\n",
    "print(f\"TOTAL SIZE: {size_1/ (1024 * 1024):.2f} MB\")\n",
    "print(\"___________________________________\")\n",
    "\n",
    "'''\n",
    "ETAPA 2\n",
    "→ Cria novo diretório com o nome target no bucket de parquet's\n",
    "→ Converte todos os arquivos na pasta temp para parquet\n",
    "→ Move para nova pasta\n",
    "'''\n",
    "print(\"STEP 2 ----------------•\")\n",
    "handle_new_dir_parquet(bucket_parquet,target)\n",
    "print(f\"PARQUET PATH: {target_parquet}\")\n",
    "handle_csv_to_parquet(path_tmp,target_parquet)\n",
    "qtd_2 = handle_count_files(target_parquet)\n",
    "size_2 = handle_size_files(target_parquet)\n",
    "print(f\"PARQUET FILES: {qtd_2}\")\n",
    "print(f\"TOTAL SIZE: {size_2/ (1024 * 1024):.2f} MB\")\n",
    "print(\"___________________________________\")\n",
    "\n",
    "'''\n",
    "ETAPA 3\n",
    "→ Calcula economia de espaço após conversão\n",
    "'''\n",
    "print(\"ℹ INFOS ----------------•\")\n",
    "# OPEN IA\n",
    "# Calcula a diferença absoluta e a porcentagem de economia\n",
    "diferenca = size_1 - size_2\n",
    "if size_1 > 0:  # Evita divisão por zero\n",
    "    economia_percentual = (diferenca / size_1) * 100\n",
    "else:\n",
    "    economia_percentual = 0\n",
    "print(f\"SIZE SAVED: {diferenca/ (1024 * 1024):.2f} MB\")\n",
    "print(f\"% REDUCTION: {economia_percentual:.2f}%\")\n",
    "print(\"___________________________________\")\n",
    "print(f\"🚩 START >> {inicio.strftime('%H:%M:%S')} <<\")\n",
    "fim = datetime.now()\n",
    "print(f\"🏁 END >> {fim.strftime('%H:%M:%S')} <<\")\n",
    "# Calcula o tempo total\n",
    "tempo_total = fim - inicio\n",
    "print(f\"⏳: {tempo_total}\")\n",
    "handle_clean_tmp(path_tmp)"
   ]
  },
  {
   "cell_type": "code",
   "execution_count": 7,
   "metadata": {},
   "outputs": [],
   "source": [
    "\n",
    "# Init Notebook\n",
    "import src.utils as utils                  # configs and functions\n",
    "import src.models.marts as mql             # marts options\n",
    "import src.models.sources as soql          # sources options\n",
    "import src.models.staging.query as qsql    # staging query\n",
    "import src.models.staging.update as update # staging update\n",
    "import src.models.staging.create as create # staging create\n",
    "import duckdb\n",
    "import pandas as pd\n",
    "import warnings\n",
    "                        \n",
    "warnings.filterwarnings('ignore')\n",
    "pd.set_option('display.max_columns',None)\n",
    "pd.set_option('display.max_rows',None)\n",
    "\n",
    "con = duckdb.connect(utils.DUCKDB_DATABASE) # type: ignore"
   ]
  },
  {
   "cell_type": "code",
   "execution_count": 29,
   "metadata": {},
   "outputs": [
    {
     "data": {
      "text/plain": [
       "<duckdb.duckdb.DuckDBPyConnection at 0x15d18160bb0>"
      ]
     },
     "execution_count": 29,
     "metadata": {},
     "output_type": "execute_result"
    }
   ],
   "source": [
    "'''\n",
    "q=f\"\"\"\n",
    "drop table if exists tbl_parquet_lab;\n",
    "create table tbl_parquet_lab (target varchar(255), files int,tt_size_csv varchar(255),tt_size_parquet varchar(255), tt_size_saved varchar(255),tt_reduction varchar(255))\n",
    "\"\"\"\n",
    "con.execute(q)\n",
    "'''"
   ]
  },
  {
   "cell_type": "code",
   "execution_count": 8,
   "metadata": {},
   "outputs": [
    {
     "data": {
      "text/html": [
       "<div>\n",
       "<style scoped>\n",
       "    .dataframe tbody tr th:only-of-type {\n",
       "        vertical-align: middle;\n",
       "    }\n",
       "\n",
       "    .dataframe tbody tr th {\n",
       "        vertical-align: top;\n",
       "    }\n",
       "\n",
       "    .dataframe thead th {\n",
       "        text-align: right;\n",
       "    }\n",
       "</style>\n",
       "<table border=\"1\" class=\"dataframe\">\n",
       "  <thead>\n",
       "    <tr style=\"text-align: right;\">\n",
       "      <th></th>\n",
       "      <th>target</th>\n",
       "      <th>files</th>\n",
       "      <th>tt_size_csv</th>\n",
       "      <th>tt_size_parquet</th>\n",
       "      <th>tt_size_saved</th>\n",
       "      <th>tt_reduction</th>\n",
       "    </tr>\n",
       "  </thead>\n",
       "  <tbody>\n",
       "    <tr>\n",
       "      <th>0</th>\n",
       "      <td>cadastro_correto_completo</td>\n",
       "      <td>12</td>\n",
       "      <td>2514.25 MB</td>\n",
       "      <td>100.62 MB</td>\n",
       "      <td>2413.63 MB</td>\n",
       "      <td>96.00%</td>\n",
       "    </tr>\n",
       "    <tr>\n",
       "      <th>1</th>\n",
       "      <td>analitico_quebra</td>\n",
       "      <td>12</td>\n",
       "      <td>6914.07 MB</td>\n",
       "      <td>578.98 MB</td>\n",
       "      <td>6335.09 MB</td>\n",
       "      <td>91.63%</td>\n",
       "    </tr>\n",
       "    <tr>\n",
       "      <th>2</th>\n",
       "      <td>d1_backlog_comercial</td>\n",
       "      <td>11</td>\n",
       "      <td>1403.01 MB</td>\n",
       "      <td>100.70 MB</td>\n",
       "      <td>1302.31 MB</td>\n",
       "      <td>92.82%</td>\n",
       "    </tr>\n",
       "    <tr>\n",
       "      <th>3</th>\n",
       "      <td>desistencia_recadastro</td>\n",
       "      <td>11</td>\n",
       "      <td>1370.68 MB</td>\n",
       "      <td>106.04 MB</td>\n",
       "      <td>1264.63 MB</td>\n",
       "      <td>92.26%</td>\n",
       "    </tr>\n",
       "    <tr>\n",
       "      <th>4</th>\n",
       "      <td>geoleads</td>\n",
       "      <td>13</td>\n",
       "      <td>1243.60 MB</td>\n",
       "      <td>91.02 MB</td>\n",
       "      <td>1152.58 MB</td>\n",
       "      <td>92.68%</td>\n",
       "    </tr>\n",
       "  </tbody>\n",
       "</table>\n",
       "</div>"
      ],
      "text/plain": [
       "                      target  files tt_size_csv tt_size_parquet tt_size_saved  \\\n",
       "0  cadastro_correto_completo     12  2514.25 MB       100.62 MB    2413.63 MB   \n",
       "1           analitico_quebra     12  6914.07 MB       578.98 MB    6335.09 MB   \n",
       "2       d1_backlog_comercial     11  1403.01 MB       100.70 MB    1302.31 MB   \n",
       "3     desistencia_recadastro     11  1370.68 MB       106.04 MB    1264.63 MB   \n",
       "4                   geoleads     13  1243.60 MB        91.02 MB    1152.58 MB   \n",
       "\n",
       "  tt_reduction  \n",
       "0       96.00%  \n",
       "1       91.63%  \n",
       "2       92.82%  \n",
       "3       92.26%  \n",
       "4       92.68%  "
      ]
     },
     "execution_count": 8,
     "metadata": {},
     "output_type": "execute_result"
    }
   ],
   "source": [
    "\n",
    "q=f\"\"\"\n",
    "insert into tbl_parquet_lab\n",
    "(target, files, tt_size_csv,tt_size_parquet, tt_size_saved,tt_reduction)\n",
    "values\n",
    "('{target}',{qtd_1},'{f\"{size_1/ (1024 * 1024):.2f} MB\"}','{f\"{size_2/ (1024 * 1024):.2f} MB\"}','{f\"{diferenca/ (1024 * 1024):.2f} MB\"}','{f\"{economia_percentual:.2f}%\"}');\n",
    "select * from tbl_parquet_lab\n",
    "\"\"\"\n",
    "con.execute(q).fetch_df()"
   ]
  },
  {
   "cell_type": "code",
   "execution_count": 1,
   "metadata": {},
   "outputs": [
    {
     "ename": "NameError",
     "evalue": "name 'con' is not defined",
     "output_type": "error",
     "traceback": [
      "\u001b[1;31m---------------------------------------------------------------------------\u001b[0m",
      "\u001b[1;31mNameError\u001b[0m                                 Traceback (most recent call last)",
      "Input \u001b[1;32mIn [1]\u001b[0m, in \u001b[0;36m<cell line: 6>\u001b[1;34m()\u001b[0m\n\u001b[0;32m      1\u001b[0m q\u001b[38;5;241m=\u001b[39m\u001b[38;5;124mf\u001b[39m\u001b[38;5;124m\"\"\"\u001b[39m\n\u001b[0;32m      2\u001b[0m \u001b[38;5;124mselect * from select * from tbl_parquet_lab\u001b[39m\n\u001b[0;32m      3\u001b[0m \u001b[38;5;124mwhere 1=1\u001b[39m\n\u001b[0;32m      4\u001b[0m \n\u001b[0;32m      5\u001b[0m \u001b[38;5;124m\"\"\"\u001b[39m\n\u001b[1;32m----> 6\u001b[0m \u001b[43mcon\u001b[49m\u001b[38;5;241m.\u001b[39mexecute(q)\u001b[38;5;241m.\u001b[39mfetch_df()\u001b[38;5;241m.\u001b[39mT\n",
      "\u001b[1;31mNameError\u001b[0m: name 'con' is not defined"
     ]
    }
   ],
   "source": [
    "q=f\"\"\"\n",
    "select * from select * from tbl_parquet_lab\n",
    "where 1=1\n",
    "\n",
    "\"\"\"\n",
    "con.execute(q).fetch_df().T"
   ]
  }
 ],
 "metadata": {
  "kernelspec": {
   "display_name": "base",
   "language": "python",
   "name": "python3"
  },
  "language_info": {
   "codemirror_mode": {
    "name": "ipython",
    "version": 3
   },
   "file_extension": ".py",
   "mimetype": "text/x-python",
   "name": "python",
   "nbconvert_exporter": "python",
   "pygments_lexer": "ipython3",
   "version": "3.9.12"
  }
 },
 "nbformat": 4,
 "nbformat_minor": 2
}
